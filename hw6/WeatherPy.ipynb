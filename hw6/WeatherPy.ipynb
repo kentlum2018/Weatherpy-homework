{
 "cells": [
  {
   "cell_type": "markdown",
   "metadata": {},
   "source": [
    "# WeatherPy\n",
    "----\n",
    "\n",
    "### Analysis\n",
    "* As expected, the weather becomes significantly warmer as one approaches the equator (0 Deg. Latitude). More interestingly, however, is the fact that the southern hemisphere tends to be warmer this time of year than the northern hemisphere. This may be due to the tilt of the earth.\n",
    "* There is no strong relationship between latitude and cloudiness. However, it is interesting to see that a strong band of cities sits at 0, 80, and 100% cloudiness.\n",
    "* There is no strong relationship between latitude and wind speed. However, in northern hemispheres there is a flurry of cities with over 20 mph of wind.\n",
    "\n",
    "---\n",
    "\n",
    "#### Note\n",
    "* Instructions have been included for each segment. You do not have to follow them exactly, but they are included to help you think through the steps."
   ]
  },
  {
   "cell_type": "code",
   "execution_count": 1,
   "metadata": {
    "scrolled": true
   },
   "outputs": [],
   "source": [
    "# Dependencies and Setup\n",
    "import matplotlib.pyplot as plt\n",
    "import pandas as pd\n",
    "import numpy as np\n",
    "import requests\n",
    "import time\n",
    "\n",
    "# Import API key\n",
    "#import api_keys\n",
    "from api_keys import api_key\n",
    "# Incorporated citipy to determine city based on latitude and longitude\n",
    "from citipy import citipy\n",
    "\n",
    "# Output File (CSV)\n",
    "output_data_file = \"output_data/cities.csv\"\n",
    "\n",
    "# Range of latitudes and longitudes\n",
    "lat_range = (-90, 90)\n",
    "lng_range = (-180, 180)"
   ]
  },
  {
   "cell_type": "markdown",
   "metadata": {},
   "source": [
    "## Generate Cities List"
   ]
  },
  {
   "cell_type": "code",
   "execution_count": 2,
   "metadata": {
    "scrolled": true
   },
   "outputs": [
    {
     "name": "stdout",
     "output_type": "stream",
     "text": [
      "['saint-philippe', 'chernyshevskiy', 'taolanaro', 'jamestown', 'arraial do cabo', 'tuktoyaktuk', 'yarkovo', 'hilo', 'port alfred', 'samusu']\n",
      "<zip object at 0x11c5cc588>\n"
     ]
    },
    {
     "data": {
      "text/html": [
       "<div>\n",
       "<style scoped>\n",
       "    .dataframe tbody tr th:only-of-type {\n",
       "        vertical-align: middle;\n",
       "    }\n",
       "\n",
       "    .dataframe tbody tr th {\n",
       "        vertical-align: top;\n",
       "    }\n",
       "\n",
       "    .dataframe thead th {\n",
       "        text-align: right;\n",
       "    }\n",
       "</style>\n",
       "<table border=\"1\" class=\"dataframe\">\n",
       "  <thead>\n",
       "    <tr style=\"text-align: right;\">\n",
       "      <th></th>\n",
       "      <th>Cities</th>\n",
       "    </tr>\n",
       "  </thead>\n",
       "  <tbody>\n",
       "    <tr>\n",
       "      <th>0</th>\n",
       "      <td>saint-philippe</td>\n",
       "    </tr>\n",
       "    <tr>\n",
       "      <th>1</th>\n",
       "      <td>chernyshevskiy</td>\n",
       "    </tr>\n",
       "    <tr>\n",
       "      <th>2</th>\n",
       "      <td>taolanaro</td>\n",
       "    </tr>\n",
       "    <tr>\n",
       "      <th>3</th>\n",
       "      <td>jamestown</td>\n",
       "    </tr>\n",
       "    <tr>\n",
       "      <th>4</th>\n",
       "      <td>arraial do cabo</td>\n",
       "    </tr>\n",
       "  </tbody>\n",
       "</table>\n",
       "</div>"
      ],
      "text/plain": [
       "            Cities\n",
       "0   saint-philippe\n",
       "1   chernyshevskiy\n",
       "2        taolanaro\n",
       "3        jamestown\n",
       "4  arraial do cabo"
      ]
     },
     "execution_count": 2,
     "metadata": {},
     "output_type": "execute_result"
    }
   ],
   "source": [
    "# List for holding lat_lngs and cities\n",
    "lat_lngs = []\n",
    "cities = []\n",
    "\n",
    "# Create a set of random lat and lng combinations\n",
    "lats = np.random.uniform(low=-90.000, high=90.000, size=1500)\n",
    "lngs = np.random.uniform(low=-180.000, high=180.000, size=1500)\n",
    "lat_lngs = zip(lats, lngs)\n",
    "\n",
    "# Identify nearest city for each lat, lng combination\n",
    "for lat_lng in lat_lngs:\n",
    "    city = citipy.nearest_city(lat_lng[0], lat_lng[1]).city_name\n",
    "    \n",
    "    # If the city is unique, then add it to a our cities list\n",
    "    if city not in cities:\n",
    "        cities.append(city)\n",
    "\n",
    "# Print the city count to confirm sufficient count\n",
    "len(cities)\n",
    "# print(cities[0:10])\n",
    "# print(lat_lngs)\n",
    "\n",
    "df = {'Cities': cities}\n",
    "cities_df = pd.DataFrame(df)\n",
    "#cities_df.head()"
   ]
  },
  {
   "cell_type": "markdown",
   "metadata": {},
   "source": [
    "### Perform API Calls\n",
    "* Perform a weather check on each city using a series of successive API calls.\n",
    "* Include a print log of each city as it'sbeing processed (with the city number and city name).\n"
   ]
  },
  {
   "cell_type": "code",
   "execution_count": 10,
   "metadata": {},
   "outputs": [
    {
     "name": "stdout",
     "output_type": "stream",
     "text": [
      "620\n",
      "620\n",
      "620\n",
      "620\n",
      "620\n",
      "620\n",
      "620\n"
     ]
    },
    {
     "data": {
      "text/plain": [
       "620"
      ]
     },
     "execution_count": 10,
     "metadata": {},
     "output_type": "execute_result"
    }
   ],
   "source": [
    "url = \"http://api.openweathermap.org/data/2.5/weather?\"\n",
    "units = \"metric\"\n",
    "lat = []\n",
    "lng = []\n",
    "temp = []\n",
    "humidity = []\n",
    "cloudiness = []\n",
    "wind_speed = []\n",
    "country = []\n",
    "date = []\n",
    "\n",
    "# Build partial query URL\n",
    "query_url = f\"{url}appid={api_key}&units={units}&q=\"\n",
    "\n",
    "for city in cities:\n",
    "    #time.sleep(1)\n",
    "    response = requests.get(query_url + city).json()\n",
    "    \n",
    "    try:\n",
    "        lat.append(response['coord']['lat'])\n",
    "        #print(lat)\n",
    "        lng.append(response['coord']['lon'])\n",
    "        #print(lng)\n",
    "        temp.append(response['main']['temp'])\n",
    "        #print(temp)\n",
    "        humidity.append(response['main']['humidity'])\n",
    "        #print(humidity)\n",
    "        cloudiness.append(response['clouds']['all'])\n",
    "        #print(cloudiness)\n",
    "        wind_speed.append(response['wind']['speed'])\n",
    "        country.append(response['sys']['country'])\n",
    "        date.append(response['dt'])\n",
    "    #print(wind_speed)\n",
    "    except KeyError:\n",
    "        #print(\"Skipping city\")\n",
    "        lat.append(\"NAN\")\n",
    "        lng.append(\"NAN\")\n",
    "        temp.append(\"NAN\")\n",
    "        humidity.append(\"NAN\")\n",
    "        cloudiness.append(\"NAN\")\n",
    "        wind_speed.append(\"NAN\")\n",
    "        country.append(\"NAN\")\n",
    "        date.append(\"NAN\")\n",
    "# print(response)\n",
    "# print(len(lat))\n",
    "# print(len(lng))\n",
    "# print(len(temp))\n",
    "# print(len(humidity))\n",
    "# print(len(cloudiness))\n",
    "# print(len(wind_speed))\n",
    "# print(len(country))\n",
    "len(date)\n"
   ]
  },
  {
   "cell_type": "code",
   "execution_count": 25,
   "metadata": {},
   "outputs": [
    {
     "data": {
      "text/plain": [
       "Cities        620\n",
       "Lat           620\n",
       "Lng           620\n",
       "Temp          620\n",
       "Humidity      620\n",
       "Cloudiness    620\n",
       "Wind Speed    620\n",
       "Country       620\n",
       "Date          620\n",
       "dtype: int64"
      ]
     },
     "execution_count": 25,
     "metadata": {},
     "output_type": "execute_result"
    }
   ],
   "source": [
    "df = {\n",
    "    'Cities': cities,\n",
    "    'Lat': lat,\n",
    "    'Lng': lng,\n",
    "    'Temp': temp,\n",
    "    'Humidity': humidity,\n",
    "    'Cloudiness': cloudiness,\n",
    "    'Wind Speed': wind_speed,\n",
    "    'Country': country,\n",
    "    'Date': date\n",
    "}\n",
    "cities_df = pd.DataFrame(df)\n",
    "cities_df.head(20)    \n",
    "cities_df.count()"
   ]
  },
  {
   "cell_type": "code",
   "execution_count": 24,
   "metadata": {},
   "outputs": [
    {
     "data": {
      "text/plain": [
       "Cities        554\n",
       "Lat           554\n",
       "Lng           554\n",
       "Temp          554\n",
       "Humidity      554\n",
       "Cloudiness    554\n",
       "Wind Speed    554\n",
       "Country       554\n",
       "Date          554\n",
       "dtype: int64"
      ]
     },
     "execution_count": 24,
     "metadata": {},
     "output_type": "execute_result"
    }
   ],
   "source": [
    "cleaned_cities_df = cities_df[cities_df.Country != 'NAN']\n",
    "cleaned_cities_df.head(20)\n",
    "cleaned_cities_df.count()"
   ]
  },
  {
   "cell_type": "markdown",
   "metadata": {},
   "source": [
    "### Convert Raw Data to DataFrame\n",
    "* Export the city data into a .csv.\n",
    "* Display the DataFrame"
   ]
  },
  {
   "cell_type": "code",
   "execution_count": 28,
   "metadata": {},
   "outputs": [
    {
     "data": {
      "text/html": [
       "<div>\n",
       "<style scoped>\n",
       "    .dataframe tbody tr th:only-of-type {\n",
       "        vertical-align: middle;\n",
       "    }\n",
       "\n",
       "    .dataframe tbody tr th {\n",
       "        vertical-align: top;\n",
       "    }\n",
       "\n",
       "    .dataframe thead th {\n",
       "        text-align: right;\n",
       "    }\n",
       "</style>\n",
       "<table border=\"1\" class=\"dataframe\">\n",
       "  <thead>\n",
       "    <tr style=\"text-align: right;\">\n",
       "      <th></th>\n",
       "      <th>Cities</th>\n",
       "      <th>Lat</th>\n",
       "      <th>Lng</th>\n",
       "      <th>Temp</th>\n",
       "      <th>Humidity</th>\n",
       "      <th>Cloudiness</th>\n",
       "      <th>Wind Speed</th>\n",
       "      <th>Country</th>\n",
       "      <th>Date</th>\n",
       "    </tr>\n",
       "  </thead>\n",
       "  <tbody>\n",
       "    <tr>\n",
       "      <th>0</th>\n",
       "      <td>saint-philippe</td>\n",
       "      <td>45.36</td>\n",
       "      <td>-73.48</td>\n",
       "      <td>-8.46</td>\n",
       "      <td>62</td>\n",
       "      <td>90</td>\n",
       "      <td>4.6</td>\n",
       "      <td>CA</td>\n",
       "      <td>1546124400</td>\n",
       "    </tr>\n",
       "    <tr>\n",
       "      <th>1</th>\n",
       "      <td>chernyshevskiy</td>\n",
       "      <td>63.01</td>\n",
       "      <td>112.47</td>\n",
       "      <td>-27.58</td>\n",
       "      <td>76</td>\n",
       "      <td>44</td>\n",
       "      <td>3.02</td>\n",
       "      <td>RU</td>\n",
       "      <td>1546127033</td>\n",
       "    </tr>\n",
       "    <tr>\n",
       "      <th>3</th>\n",
       "      <td>jamestown</td>\n",
       "      <td>-33.21</td>\n",
       "      <td>138.6</td>\n",
       "      <td>23.87</td>\n",
       "      <td>72</td>\n",
       "      <td>44</td>\n",
       "      <td>1.97</td>\n",
       "      <td>AU</td>\n",
       "      <td>1546126530</td>\n",
       "    </tr>\n",
       "    <tr>\n",
       "      <th>4</th>\n",
       "      <td>arraial do cabo</td>\n",
       "      <td>-22.97</td>\n",
       "      <td>-42.02</td>\n",
       "      <td>24.55</td>\n",
       "      <td>97</td>\n",
       "      <td>8</td>\n",
       "      <td>2.07</td>\n",
       "      <td>BR</td>\n",
       "      <td>1546126564</td>\n",
       "    </tr>\n",
       "    <tr>\n",
       "      <th>5</th>\n",
       "      <td>tuktoyaktuk</td>\n",
       "      <td>69.44</td>\n",
       "      <td>-133.03</td>\n",
       "      <td>-28</td>\n",
       "      <td>75</td>\n",
       "      <td>20</td>\n",
       "      <td>2.6</td>\n",
       "      <td>CA</td>\n",
       "      <td>1546124400</td>\n",
       "    </tr>\n",
       "  </tbody>\n",
       "</table>\n",
       "</div>"
      ],
      "text/plain": [
       "            Cities    Lat     Lng   Temp Humidity Cloudiness Wind Speed  \\\n",
       "0   saint-philippe  45.36  -73.48  -8.46       62         90        4.6   \n",
       "1   chernyshevskiy  63.01  112.47 -27.58       76         44       3.02   \n",
       "3        jamestown -33.21   138.6  23.87       72         44       1.97   \n",
       "4  arraial do cabo -22.97  -42.02  24.55       97          8       2.07   \n",
       "5      tuktoyaktuk  69.44 -133.03    -28       75         20        2.6   \n",
       "\n",
       "  Country        Date  \n",
       "0      CA  1546124400  \n",
       "1      RU  1546127033  \n",
       "3      AU  1546126530  \n",
       "4      BR  1546126564  \n",
       "5      CA  1546124400  "
      ]
     },
     "execution_count": 28,
     "metadata": {},
     "output_type": "execute_result"
    }
   ],
   "source": [
    "cleaned_cities_df.to_csv('output_data_file')\n",
    "cleaned_cities_df.head()"
   ]
  },
  {
   "cell_type": "code",
   "execution_count": null,
   "metadata": {},
   "outputs": [],
   "source": []
  },
  {
   "cell_type": "markdown",
   "metadata": {},
   "source": [
    "### Plotting the Data\n",
    "* Use proper labeling of the plots using plot titles (including date of analysis) and axes labels.\n",
    "* Save the plotted figures as .pngs."
   ]
  },
  {
   "cell_type": "markdown",
   "metadata": {},
   "source": [
    "#### Latitude vs. Temperature Plot"
   ]
  },
  {
   "cell_type": "code",
   "execution_count": null,
   "metadata": {},
   "outputs": [],
   "source": []
  },
  {
   "cell_type": "markdown",
   "metadata": {},
   "source": [
    "#### Latitude vs. Humidity Plot"
   ]
  },
  {
   "cell_type": "code",
   "execution_count": null,
   "metadata": {},
   "outputs": [],
   "source": []
  },
  {
   "cell_type": "markdown",
   "metadata": {},
   "source": [
    "#### Latitude vs. Cloudiness Plot"
   ]
  },
  {
   "cell_type": "code",
   "execution_count": null,
   "metadata": {},
   "outputs": [],
   "source": []
  },
  {
   "cell_type": "markdown",
   "metadata": {},
   "source": [
    "#### Latitude vs. Wind Speed Plot"
   ]
  },
  {
   "cell_type": "code",
   "execution_count": null,
   "metadata": {},
   "outputs": [],
   "source": []
  },
  {
   "cell_type": "code",
   "execution_count": null,
   "metadata": {},
   "outputs": [],
   "source": []
  }
 ],
 "metadata": {
  "anaconda-cloud": {},
  "kernelspec": {
   "display_name": "Python 3",
   "language": "python",
   "name": "python3"
  },
  "language_info": {
   "codemirror_mode": {
    "name": "ipython",
    "version": 3
   },
   "file_extension": ".py",
   "mimetype": "text/x-python",
   "name": "python",
   "nbconvert_exporter": "python",
   "pygments_lexer": "ipython3",
   "version": "3.7.1"
  }
 },
 "nbformat": 4,
 "nbformat_minor": 2
}
